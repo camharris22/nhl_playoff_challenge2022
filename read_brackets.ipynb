{
 "cells": [
  {
   "cell_type": "markdown",
   "id": "middle-vietnam",
   "metadata": {},
   "source": [
    "# 2022 NHL Playoff Pool\n",
    "Notebook to help in development of scripts to read brackets and calculate points"
   ]
  },
  {
   "cell_type": "code",
   "execution_count": 2,
   "id": "german-finger",
   "metadata": {},
   "outputs": [],
   "source": [
    "import pandas as pd\n",
    "import numpy as np\n",
    "import os"
   ]
  },
  {
   "cell_type": "code",
   "execution_count": 3,
   "id": "qualified-cooling",
   "metadata": {},
   "outputs": [],
   "source": [
    "brackets = os.listdir('brackets')"
   ]
  },
  {
   "cell_type": "code",
   "execution_count": 4,
   "id": "infrared-professional",
   "metadata": {},
   "outputs": [],
   "source": [
    "# def read_brackets_loop(brackets):\n",
    "#     \"\"\"Read playoff bracket entries and save results as dict\"\"\"\n",
    "#     for bracket in brackets:\n",
    "#         df = pd.read_excel(\"brackets/\"+bracket, sheet_name='teams')\n",
    "#         entrant_name = df['entrant_name'].dropna().item()\n",
    "#         if entrant_name in picks.keys():\n",
    "#             entrant_name+=' 2' \n",
    "#         picks[entrant_name] = {\n",
    "#             'rd1_selections' : df['rd1_selections'].dropna().to_list(),\n",
    "#             'rd2_selections' : df['rd2_selections'].dropna().to_list(),\n",
    "#             'rd3_selections' : df['rd3_selections'].dropna().to_list(),\n",
    "#             'rd4_selections' : df['rd4_selections'].dropna().to_list(),\n",
    "#             'tie_breaker' : df['tie_breaker'].dropna().to_list()\n",
    "#         }\n",
    "#     return picks"
   ]
  },
  {
   "cell_type": "code",
   "execution_count": 5,
   "id": "herbal-badge",
   "metadata": {},
   "outputs": [],
   "source": [
    "# read_brackets_loop(brackets)"
   ]
  },
  {
   "cell_type": "code",
   "execution_count": 19,
   "id": "framed-chosen",
   "metadata": {},
   "outputs": [],
   "source": [
    "# Attempt class method to make this cleaner\n",
    "class bracket_entry:\n",
    "    \"\"\"Class to manage bracket entries and calculate points\"\"\"\n",
    "    def __init__(self, bracket_name):\n",
    "        self.bracket_name = bracket_name\n",
    "        self.picks = {}\n",
    "        self.points = {}\n",
    "        \n",
    "    def read_brackets(self):\n",
    "        \"\"\"Read playoff bracket entries and save results as dict\"\"\"\n",
    "        directory = \"brackets/\" + self.bracket_name\n",
    "        df = pd.read_excel(directory, sheet_name='teams')\n",
    "        self.entrant_name = df['entrant_name'].dropna().item()\n",
    "        if self.entrant_name in self.picks.keys():\n",
    "            self.entrant_name = self.entrant_name + ' 2'\n",
    "\n",
    "        self.picks = {\n",
    "            'rd1_selections' : df['rd1_selections'].dropna().to_list(),\n",
    "            'rd2_selections' : df['rd2_selections'].dropna().to_list(),\n",
    "            'rd3_selections' : df['rd3_selections'].dropna().to_list(),\n",
    "            'rd4_selections' : df['rd4_selections'].dropna().to_list(),\n",
    "            'tie_breaker' : df['tie_breaker'].dropna().to_list()\n",
    "        }\n",
    "        return\n",
    "    \n",
    "    def calc_points(self, results):\n",
    "        \"\"\"Calculate pool points based on latest playoff results\"\"\"\n",
    "        points_by_round = {\n",
    "            'rd1': 2,\n",
    "            'rd2': 4,\n",
    "            'rd3': 8,\n",
    "            'rd4': 17\n",
    "        }\n",
    "        for rd in results.keys():\n",
    "            round_picks = self.picks[rd+'_selections']\n",
    "            round_result = results[rd]\n",
    "            round_points = len(set(round_picks) & set(round_result))*points_by_round[rd]\n",
    "            self.points[rd+'_points'] = round_points\n",
    "        return"
   ]
  },
  {
   "cell_type": "code",
   "execution_count": 8,
   "id": "current-beverage",
   "metadata": {},
   "outputs": [
    {
     "name": "stdout",
     "output_type": "stream",
     "text": [
      "bracket_2022_CameronTest1.xlsx\n",
      "bracket_2022_CameronTest.xlsx\n"
     ]
    }
   ],
   "source": [
    "# Initialize entries\n",
    "entries = {}\n",
    "for n, bracket in enumerate(brackets):\n",
    "    print(bracket)\n",
    "    entries[str(n+1)] = bracket_entry(bracket)"
   ]
  },
  {
   "cell_type": "code",
   "execution_count": 9,
   "id": "coastal-transportation",
   "metadata": {},
   "outputs": [
    {
     "data": {
      "text/plain": [
       "'bracket_2022_CameronTest1.xlsx'"
      ]
     },
     "execution_count": 9,
     "metadata": {},
     "output_type": "execute_result"
    }
   ],
   "source": [
    "entries['1'].bracket_name"
   ]
  },
  {
   "cell_type": "code",
   "execution_count": 10,
   "id": "level-adaptation",
   "metadata": {},
   "outputs": [
    {
     "data": {
      "text/plain": [
       "{}"
      ]
     },
     "execution_count": 10,
     "metadata": {},
     "output_type": "execute_result"
    }
   ],
   "source": [
    "entries['1'].picks"
   ]
  },
  {
   "cell_type": "code",
   "execution_count": 11,
   "id": "other-roots",
   "metadata": {},
   "outputs": [
    {
     "data": {
      "text/plain": [
       "{}"
      ]
     },
     "execution_count": 11,
     "metadata": {},
     "output_type": "execute_result"
    }
   ],
   "source": [
    "entries['1'].points"
   ]
  },
  {
   "cell_type": "code",
   "execution_count": 12,
   "id": "unlike-guest",
   "metadata": {},
   "outputs": [],
   "source": [
    "# Extract picks\n",
    "all_picks = {}\n",
    "for entry_num, entry in entries.items():\n",
    "    bracket_entry.read_brackets(entry)\n",
    "    all_picks[str(entry.entrant_name) + ' ' + str(entry_num)] = entry.picks"
   ]
  },
  {
   "cell_type": "code",
   "execution_count": 26,
   "id": "pursuant-denial",
   "metadata": {},
   "outputs": [
    {
     "data": {
      "text/html": [
       "<div>\n",
       "<style scoped>\n",
       "    .dataframe tbody tr th:only-of-type {\n",
       "        vertical-align: middle;\n",
       "    }\n",
       "\n",
       "    .dataframe tbody tr th {\n",
       "        vertical-align: top;\n",
       "    }\n",
       "\n",
       "    .dataframe thead th {\n",
       "        text-align: right;\n",
       "    }\n",
       "</style>\n",
       "<table border=\"1\" class=\"dataframe\">\n",
       "  <thead>\n",
       "    <tr style=\"text-align: right;\">\n",
       "      <th></th>\n",
       "      <th>rd1_selections</th>\n",
       "      <th>rd2_selections</th>\n",
       "      <th>rd3_selections</th>\n",
       "      <th>rd4_selections</th>\n",
       "      <th>tie_breaker</th>\n",
       "    </tr>\n",
       "  </thead>\n",
       "  <tbody>\n",
       "    <tr>\n",
       "      <th>Cameron Harris 1</th>\n",
       "      <td>[NSH, EDM, COL, MIN, FLA, TBL, CAR, NYR]</td>\n",
       "      <td>[EDM, MIN, FLA, CAR]</td>\n",
       "      <td>[EDM, FLA]</td>\n",
       "      <td>[FLA]</td>\n",
       "      <td>[Pasternak]</td>\n",
       "    </tr>\n",
       "    <tr>\n",
       "      <th>Cameron Harris 2</th>\n",
       "      <td>[CGY, EDM, COL, MIN, FLA, TOR, BOS, NYR]</td>\n",
       "      <td>[CGY, COL, FLA, BOS]</td>\n",
       "      <td>[COL, BOS]</td>\n",
       "      <td>[COL]</td>\n",
       "      <td>[Pasternak]</td>\n",
       "    </tr>\n",
       "  </tbody>\n",
       "</table>\n",
       "</div>"
      ],
      "text/plain": [
       "                                            rd1_selections  \\\n",
       "Cameron Harris 1  [NSH, EDM, COL, MIN, FLA, TBL, CAR, NYR]   \n",
       "Cameron Harris 2  [CGY, EDM, COL, MIN, FLA, TOR, BOS, NYR]   \n",
       "\n",
       "                        rd2_selections rd3_selections rd4_selections  \\\n",
       "Cameron Harris 1  [EDM, MIN, FLA, CAR]     [EDM, FLA]          [FLA]   \n",
       "Cameron Harris 2  [CGY, COL, FLA, BOS]     [COL, BOS]          [COL]   \n",
       "\n",
       "                  tie_breaker  \n",
       "Cameron Harris 1  [Pasternak]  \n",
       "Cameron Harris 2  [Pasternak]  "
      ]
     },
     "execution_count": 26,
     "metadata": {},
     "output_type": "execute_result"
    }
   ],
   "source": [
    "pd.DataFrame(all_picks).T"
   ]
  },
  {
   "cell_type": "code",
   "execution_count": 14,
   "id": "blind-fraud",
   "metadata": {},
   "outputs": [
    {
     "data": {
      "text/plain": [
       "{'rd1_selections': ['NSH', 'EDM', 'COL', 'MIN', 'FLA', 'TBL', 'CAR', 'NYR'],\n",
       " 'rd2_selections': ['EDM', 'MIN', 'FLA', 'CAR'],\n",
       " 'rd3_selections': ['EDM', 'FLA'],\n",
       " 'rd4_selections': ['FLA'],\n",
       " 'tie_breaker': ['Pasternak']}"
      ]
     },
     "execution_count": 14,
     "metadata": {},
     "output_type": "execute_result"
    }
   ],
   "source": [
    "entries['1'].picks"
   ]
  },
  {
   "cell_type": "code",
   "execution_count": 15,
   "id": "moderate-polyester",
   "metadata": {},
   "outputs": [
    {
     "data": {
      "text/plain": [
       "{'rd1_selections': ['CGY', 'EDM', 'COL', 'MIN', 'FLA', 'TOR', 'BOS', 'NYR'],\n",
       " 'rd2_selections': ['CGY', 'COL', 'FLA', 'BOS'],\n",
       " 'rd3_selections': ['COL', 'BOS'],\n",
       " 'rd4_selections': ['COL'],\n",
       " 'tie_breaker': ['Pasternak']}"
      ]
     },
     "execution_count": 15,
     "metadata": {},
     "output_type": "execute_result"
    }
   ],
   "source": [
    "entries['2'].picks"
   ]
  },
  {
   "cell_type": "code",
   "execution_count": 16,
   "id": "chemical-stranger",
   "metadata": {},
   "outputs": [],
   "source": [
    "# Results by round\n",
    "results = {\n",
    "    'rd1': [\n",
    "        'CGY',\n",
    "        'EDM',\n",
    "        'COL',\n",
    "        'MIN',\n",
    "        'FLA',\n",
    "        'TOR',\n",
    "        'CAR',\n",
    "        'PIT'\n",
    "    ],\n",
    "    'rd2': [\n",
    "        'EDM',\n",
    "        'COL',\n",
    "        'FLA',\n",
    "        'PIT'\n",
    "    ],\n",
    "    'rd3': [\n",
    "        'COL',\n",
    "        'FLA'\n",
    "    ],\n",
    "    'rd4': [\n",
    "        'FLA'\n",
    "    ]\n",
    "}"
   ]
  },
  {
   "cell_type": "code",
   "execution_count": 17,
   "id": "innovative-recipient",
   "metadata": {},
   "outputs": [
    {
     "data": {
      "text/plain": [
       "dict_keys(['rd1', 'rd2', 'rd3', 'rd4'])"
      ]
     },
     "execution_count": 17,
     "metadata": {},
     "output_type": "execute_result"
    }
   ],
   "source": [
    "results.keys()"
   ]
  },
  {
   "cell_type": "code",
   "execution_count": 20,
   "id": "prerequisite-madness",
   "metadata": {},
   "outputs": [],
   "source": [
    "# Calculate points based on latest results\n",
    "all_points = {}\n",
    "for entry_num, entry in entries.items():\n",
    "    bracket_entry.calc_points(entry, results)\n",
    "    all_points[str(entry.entrant_name) + ' ' + str(entry_num)] = entry.points"
   ]
  },
  {
   "cell_type": "code",
   "execution_count": 23,
   "id": "narrative-flood",
   "metadata": {},
   "outputs": [
    {
     "data": {
      "text/html": [
       "<div>\n",
       "<style scoped>\n",
       "    .dataframe tbody tr th:only-of-type {\n",
       "        vertical-align: middle;\n",
       "    }\n",
       "\n",
       "    .dataframe tbody tr th {\n",
       "        vertical-align: top;\n",
       "    }\n",
       "\n",
       "    .dataframe thead th {\n",
       "        text-align: right;\n",
       "    }\n",
       "</style>\n",
       "<table border=\"1\" class=\"dataframe\">\n",
       "  <thead>\n",
       "    <tr style=\"text-align: right;\">\n",
       "      <th></th>\n",
       "      <th>rd1_points</th>\n",
       "      <th>rd2_points</th>\n",
       "      <th>rd3_points</th>\n",
       "      <th>rd4_points</th>\n",
       "    </tr>\n",
       "  </thead>\n",
       "  <tbody>\n",
       "    <tr>\n",
       "      <th>Cameron Harris 1</th>\n",
       "      <td>10</td>\n",
       "      <td>8</td>\n",
       "      <td>8</td>\n",
       "      <td>17</td>\n",
       "    </tr>\n",
       "    <tr>\n",
       "      <th>Cameron Harris 2</th>\n",
       "      <td>12</td>\n",
       "      <td>8</td>\n",
       "      <td>8</td>\n",
       "      <td>0</td>\n",
       "    </tr>\n",
       "  </tbody>\n",
       "</table>\n",
       "</div>"
      ],
      "text/plain": [
       "                  rd1_points  rd2_points  rd3_points  rd4_points\n",
       "Cameron Harris 1          10           8           8          17\n",
       "Cameron Harris 2          12           8           8           0"
      ]
     },
     "execution_count": 23,
     "metadata": {},
     "output_type": "execute_result"
    }
   ],
   "source": [
    "points_df = pd.DataFrame(all_points).T\n",
    "points_df"
   ]
  },
  {
   "cell_type": "code",
   "execution_count": 24,
   "id": "instrumental-integration",
   "metadata": {},
   "outputs": [],
   "source": [
    "points_df['total_points'] = points_df.loc[:, 'rd1_points':'rd4_points'].sum(axis=1)\n"
   ]
  },
  {
   "cell_type": "code",
   "execution_count": 25,
   "id": "satisfactory-conservative",
   "metadata": {},
   "outputs": [
    {
     "data": {
      "text/html": [
       "<div>\n",
       "<style scoped>\n",
       "    .dataframe tbody tr th:only-of-type {\n",
       "        vertical-align: middle;\n",
       "    }\n",
       "\n",
       "    .dataframe tbody tr th {\n",
       "        vertical-align: top;\n",
       "    }\n",
       "\n",
       "    .dataframe thead th {\n",
       "        text-align: right;\n",
       "    }\n",
       "</style>\n",
       "<table border=\"1\" class=\"dataframe\">\n",
       "  <thead>\n",
       "    <tr style=\"text-align: right;\">\n",
       "      <th></th>\n",
       "      <th>rd1_points</th>\n",
       "      <th>rd2_points</th>\n",
       "      <th>rd3_points</th>\n",
       "      <th>rd4_points</th>\n",
       "      <th>total_points</th>\n",
       "    </tr>\n",
       "  </thead>\n",
       "  <tbody>\n",
       "    <tr>\n",
       "      <th>Cameron Harris 1</th>\n",
       "      <td>10</td>\n",
       "      <td>8</td>\n",
       "      <td>8</td>\n",
       "      <td>17</td>\n",
       "      <td>43</td>\n",
       "    </tr>\n",
       "    <tr>\n",
       "      <th>Cameron Harris 2</th>\n",
       "      <td>12</td>\n",
       "      <td>8</td>\n",
       "      <td>8</td>\n",
       "      <td>0</td>\n",
       "      <td>28</td>\n",
       "    </tr>\n",
       "  </tbody>\n",
       "</table>\n",
       "</div>"
      ],
      "text/plain": [
       "                  rd1_points  rd2_points  rd3_points  rd4_points  total_points\n",
       "Cameron Harris 1          10           8           8          17            43\n",
       "Cameron Harris 2          12           8           8           0            28"
      ]
     },
     "execution_count": 25,
     "metadata": {},
     "output_type": "execute_result"
    }
   ],
   "source": [
    "points_df"
   ]
  },
  {
   "cell_type": "code",
   "execution_count": null,
   "id": "logical-victorian",
   "metadata": {},
   "outputs": [],
   "source": []
  }
 ],
 "metadata": {
  "kernelspec": {
   "display_name": "Python [conda env:gad_env]",
   "language": "python",
   "name": "conda-env-gad_env-py"
  },
  "language_info": {
   "codemirror_mode": {
    "name": "ipython",
    "version": 3
   },
   "file_extension": ".py",
   "mimetype": "text/x-python",
   "name": "python",
   "nbconvert_exporter": "python",
   "pygments_lexer": "ipython3",
   "version": "3.8.12"
  }
 },
 "nbformat": 4,
 "nbformat_minor": 5
}
