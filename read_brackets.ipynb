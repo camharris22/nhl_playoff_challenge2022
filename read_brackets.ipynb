{
 "cells": [
  {
   "cell_type": "markdown",
   "id": "minimal-needle",
   "metadata": {},
   "source": [
    "# 2022 NHL Playoff Pool"
   ]
  },
  {
   "cell_type": "code",
   "execution_count": 1,
   "id": "precise-provincial",
   "metadata": {},
   "outputs": [],
   "source": [
    "import pandas as pd\n",
    "import numpy as np\n",
    "import os"
   ]
  },
  {
   "cell_type": "code",
   "execution_count": 21,
   "id": "assured-functionality",
   "metadata": {},
   "outputs": [],
   "source": [
    "# Initialize dicts\n",
    "picks = {}\n",
    "entries = {}\n",
    "points = {}"
   ]
  },
  {
   "cell_type": "code",
   "execution_count": 3,
   "id": "restricted-artist",
   "metadata": {},
   "outputs": [],
   "source": [
    "brackets = os.listdir('brackets')"
   ]
  },
  {
   "cell_type": "code",
   "execution_count": 4,
   "id": "agricultural-ensemble",
   "metadata": {},
   "outputs": [],
   "source": [
    "def read_brackets_loop(brackets):\n",
    "    \"\"\"Read playoff bracket entries and save results as dict\"\"\"\n",
    "    for bracket in brackets:\n",
    "        df = pd.read_excel(\"brackets/\"+bracket, sheet_name='teams')\n",
    "        entrant_name = df['entrant_name'].dropna().item()\n",
    "        if entrant_name in picks.keys():\n",
    "            entrant_name+=' 2' \n",
    "        picks[entrant_name] = {\n",
    "            'rd1_selections' : df['rd1_selections'].dropna().to_list(),\n",
    "            'rd2_selections' : df['rd2_selections'].dropna().to_list(),\n",
    "            'rd3_selections' : df['rd3_selections'].dropna().to_list(),\n",
    "            'rd4_selections' : df['rd4_selections'].dropna().to_list(),\n",
    "            'tie_breaker' : df['tie_breaker'].dropna().to_list()\n",
    "        }\n",
    "    return picks"
   ]
  },
  {
   "cell_type": "code",
   "execution_count": 5,
   "id": "prescription-addiction",
   "metadata": {},
   "outputs": [
    {
     "data": {
      "text/plain": [
       "{'Cameron Harris': {'rd1_selections': ['NSH',\n",
       "   'EDM',\n",
       "   'COL',\n",
       "   'MIN',\n",
       "   'FLA',\n",
       "   'TBL',\n",
       "   'CAR',\n",
       "   'NYR'],\n",
       "  'rd2_selections': ['EDM', 'MIN', 'FLA', 'CAR'],\n",
       "  'rd3_selections': ['EDM', 'FLA'],\n",
       "  'rd4_selections': ['FLA'],\n",
       "  'tie_breaker': ['Pasternak']},\n",
       " 'Cameron Harris 2': {'rd1_selections': ['CGY',\n",
       "   'EDM',\n",
       "   'COL',\n",
       "   'MIN',\n",
       "   'FLA',\n",
       "   'TOR',\n",
       "   'BOS',\n",
       "   'NYR'],\n",
       "  'rd2_selections': ['CGY', 'COL', 'FLA', 'BOS'],\n",
       "  'rd3_selections': ['COL', 'BOS'],\n",
       "  'rd4_selections': ['COL'],\n",
       "  'tie_breaker': ['Pasternak']}}"
      ]
     },
     "execution_count": 5,
     "metadata": {},
     "output_type": "execute_result"
    }
   ],
   "source": [
    "read_brackets_loop(brackets)"
   ]
  },
  {
   "cell_type": "code",
   "execution_count": 65,
   "id": "suited-georgia",
   "metadata": {},
   "outputs": [],
   "source": [
    "# Attempt class method to make this cleaner\n",
    "class bracket_entry:\n",
    "    \"\"\"Class to manage bracket entries and calculate points\"\"\"\n",
    "    def __init__(self, bracket_name):\n",
    "        self.bracket_name = bracket_name\n",
    "        self.picks = {}\n",
    "        self.points = {}\n",
    "        \n",
    "    def read_brackets(self):\n",
    "        \"\"\"Read playoff bracket entries and save results as dict\"\"\"\n",
    "        directory = \"brackets/\" + self.bracket_name\n",
    "        df = pd.read_excel(directory, sheet_name='teams')\n",
    "        self.entrant_name = df['entrant_name'].dropna().item()\n",
    "        if self.entrant_name in picks.keys():\n",
    "            self.entrant_name = self.entrant_name + ' 2'\n",
    "\n",
    "        self.picks[self.entrant_name] = {\n",
    "            'rd1_selections' : df['rd1_selections'].dropna().to_list(),\n",
    "            'rd2_selections' : df['rd2_selections'].dropna().to_list(),\n",
    "            'rd3_selections' : df['rd3_selections'].dropna().to_list(),\n",
    "            'rd4_selections' : df['rd4_selections'].dropna().to_list(),\n",
    "            'tie_breaker' : df['tie_breaker'].dropna().to_list()\n",
    "        }\n",
    "        return\n",
    "    \n",
    "    def calc_points(self, results):\n",
    "        \"\"\"Calculate pool points based on latest playoff results\"\"\"\n",
    "        points_by_round = {\n",
    "            'rd1': 2,\n",
    "            'rd2': 4,\n",
    "            'rd3': 8,\n",
    "            'rd4': 17\n",
    "        }\n",
    "        for rd in results.keys():\n",
    "            round_picks = self.picks[self.entrant_name][rd+'_selections']\n",
    "            round_result = results[rd]\n",
    "            round_points = len(set(round_picks) & set(round_result))*points_by_round[rd]\n",
    "            self.points[rd+'_points'] = round_points\n",
    "        return"
   ]
  },
  {
   "cell_type": "code",
   "execution_count": 66,
   "id": "outstanding-threat",
   "metadata": {},
   "outputs": [
    {
     "name": "stdout",
     "output_type": "stream",
     "text": [
      "bracket_2022_CameronTest1.xlsx\n",
      "bracket_2022_CameronTest.xlsx\n"
     ]
    }
   ],
   "source": [
    "# Initialize entries\n",
    "for n, bracket in enumerate(brackets):\n",
    "    print(bracket)\n",
    "    entries[str(n+1)] = bracket_entry(bracket)"
   ]
  },
  {
   "cell_type": "code",
   "execution_count": 67,
   "id": "equal-aircraft",
   "metadata": {},
   "outputs": [
    {
     "data": {
      "text/plain": [
       "'bracket_2022_CameronTest1.xlsx'"
      ]
     },
     "execution_count": 67,
     "metadata": {},
     "output_type": "execute_result"
    }
   ],
   "source": [
    "entries['1'].bracket_name"
   ]
  },
  {
   "cell_type": "code",
   "execution_count": 68,
   "id": "bigger-dance",
   "metadata": {},
   "outputs": [
    {
     "data": {
      "text/plain": [
       "{}"
      ]
     },
     "execution_count": 68,
     "metadata": {},
     "output_type": "execute_result"
    }
   ],
   "source": [
    "entries['1'].picks"
   ]
  },
  {
   "cell_type": "code",
   "execution_count": 69,
   "id": "finite-catch",
   "metadata": {},
   "outputs": [
    {
     "data": {
      "text/plain": [
       "{}"
      ]
     },
     "execution_count": 69,
     "metadata": {},
     "output_type": "execute_result"
    }
   ],
   "source": [
    "entries['1'].points"
   ]
  },
  {
   "cell_type": "code",
   "execution_count": 70,
   "id": "incredible-baker",
   "metadata": {},
   "outputs": [],
   "source": [
    "# Extract picks\n",
    "for entry_num, entry in entries.items():\n",
    "    bracket_entry.read_brackets(entry)"
   ]
  },
  {
   "cell_type": "code",
   "execution_count": 71,
   "id": "afraid-passion",
   "metadata": {},
   "outputs": [
    {
     "data": {
      "text/plain": [
       "{'Cameron Harris': {'rd1_selections': ['NSH',\n",
       "   'EDM',\n",
       "   'COL',\n",
       "   'MIN',\n",
       "   'FLA',\n",
       "   'TBL',\n",
       "   'CAR',\n",
       "   'NYR'],\n",
       "  'rd2_selections': ['EDM', 'MIN', 'FLA', 'CAR'],\n",
       "  'rd3_selections': ['EDM', 'FLA'],\n",
       "  'rd4_selections': ['FLA'],\n",
       "  'tie_breaker': ['Pasternak']}}"
      ]
     },
     "execution_count": 71,
     "metadata": {},
     "output_type": "execute_result"
    }
   ],
   "source": [
    "entries['1'].picks"
   ]
  },
  {
   "cell_type": "code",
   "execution_count": 72,
   "id": "strategic-thumb",
   "metadata": {},
   "outputs": [
    {
     "data": {
      "text/plain": [
       "{'Cameron Harris': {'rd1_selections': ['CGY',\n",
       "   'EDM',\n",
       "   'COL',\n",
       "   'MIN',\n",
       "   'FLA',\n",
       "   'TOR',\n",
       "   'BOS',\n",
       "   'NYR'],\n",
       "  'rd2_selections': ['CGY', 'COL', 'FLA', 'BOS'],\n",
       "  'rd3_selections': ['COL', 'BOS'],\n",
       "  'rd4_selections': ['COL'],\n",
       "  'tie_breaker': ['Pasternak']}}"
      ]
     },
     "execution_count": 72,
     "metadata": {},
     "output_type": "execute_result"
    }
   ],
   "source": [
    "entries['2'].picks"
   ]
  },
  {
   "cell_type": "code",
   "execution_count": 73,
   "id": "blessed-travel",
   "metadata": {},
   "outputs": [
    {
     "data": {
      "text/html": [
       "<div>\n",
       "<style scoped>\n",
       "    .dataframe tbody tr th:only-of-type {\n",
       "        vertical-align: middle;\n",
       "    }\n",
       "\n",
       "    .dataframe tbody tr th {\n",
       "        vertical-align: top;\n",
       "    }\n",
       "\n",
       "    .dataframe thead th {\n",
       "        text-align: right;\n",
       "    }\n",
       "</style>\n",
       "<table border=\"1\" class=\"dataframe\">\n",
       "  <thead>\n",
       "    <tr style=\"text-align: right;\">\n",
       "      <th></th>\n",
       "      <th>Cameron Harris</th>\n",
       "    </tr>\n",
       "  </thead>\n",
       "  <tbody>\n",
       "    <tr>\n",
       "      <th>rd1_selections</th>\n",
       "      <td>[CGY, EDM, COL, MIN, FLA, TOR, BOS, NYR]</td>\n",
       "    </tr>\n",
       "    <tr>\n",
       "      <th>rd2_selections</th>\n",
       "      <td>[CGY, COL, FLA, BOS]</td>\n",
       "    </tr>\n",
       "    <tr>\n",
       "      <th>rd3_selections</th>\n",
       "      <td>[COL, BOS]</td>\n",
       "    </tr>\n",
       "    <tr>\n",
       "      <th>rd4_selections</th>\n",
       "      <td>[COL]</td>\n",
       "    </tr>\n",
       "    <tr>\n",
       "      <th>tie_breaker</th>\n",
       "      <td>[Pasternak]</td>\n",
       "    </tr>\n",
       "  </tbody>\n",
       "</table>\n",
       "</div>"
      ],
      "text/plain": [
       "                                          Cameron Harris\n",
       "rd1_selections  [CGY, EDM, COL, MIN, FLA, TOR, BOS, NYR]\n",
       "rd2_selections                      [CGY, COL, FLA, BOS]\n",
       "rd3_selections                                [COL, BOS]\n",
       "rd4_selections                                     [COL]\n",
       "tie_breaker                                  [Pasternak]"
      ]
     },
     "execution_count": 73,
     "metadata": {},
     "output_type": "execute_result"
    }
   ],
   "source": [
    "pd.DataFrame(entries['2'].picks)"
   ]
  },
  {
   "cell_type": "code",
   "execution_count": 74,
   "id": "modular-hypothetical",
   "metadata": {},
   "outputs": [],
   "source": [
    "# Results by round\n",
    "results = {\n",
    "    'rd1': [\n",
    "        'CGY',\n",
    "        'EDM',\n",
    "        'COL',\n",
    "        'MIN',\n",
    "        'FLA',\n",
    "        'TOR',\n",
    "        'CAR',\n",
    "        'PIT'\n",
    "    ],\n",
    "    'rd2': [\n",
    "        'EDM',\n",
    "        'COL',\n",
    "        'FLA',\n",
    "        'PIT'\n",
    "    ],\n",
    "    'rd3': [\n",
    "        'COL',\n",
    "        'FLA'\n",
    "    ],\n",
    "    'rd4': [\n",
    "        'FLA'\n",
    "    ]\n",
    "}"
   ]
  },
  {
   "cell_type": "code",
   "execution_count": 75,
   "id": "portable-february",
   "metadata": {},
   "outputs": [
    {
     "data": {
      "text/plain": [
       "dict_keys(['rd1', 'rd2', 'rd3', 'rd4'])"
      ]
     },
     "execution_count": 75,
     "metadata": {},
     "output_type": "execute_result"
    }
   ],
   "source": [
    "results.keys()"
   ]
  },
  {
   "cell_type": "code",
   "execution_count": 76,
   "id": "tender-tours",
   "metadata": {},
   "outputs": [],
   "source": [
    "# Calculate points based on latest results\n",
    "for entry_num, entry in entries.items():\n",
    "    bracket_entry.calc_points(entry, results)"
   ]
  },
  {
   "cell_type": "code",
   "execution_count": 78,
   "id": "initial-visiting",
   "metadata": {},
   "outputs": [
    {
     "data": {
      "text/plain": [
       "{'rd1_points': 10, 'rd2_points': 8, 'rd3_points': 8, 'rd4_points': 17}"
      ]
     },
     "execution_count": 78,
     "metadata": {},
     "output_type": "execute_result"
    }
   ],
   "source": [
    "entries['1'].points"
   ]
  },
  {
   "cell_type": "markdown",
   "id": "diverse-westminster",
   "metadata": {},
   "source": [
    "## TO DO\n",
    "Investigate why this only works when I assign output from class method to a new dict, thougth I should be able to save the picks/results as attributes of each instance (e.g. self.picks, self.results)"
   ]
  },
  {
   "cell_type": "code",
   "execution_count": null,
   "id": "stylish-criterion",
   "metadata": {},
   "outputs": [],
   "source": [
    "points"
   ]
  },
  {
   "cell_type": "code",
   "execution_count": null,
   "id": "australian-revolution",
   "metadata": {},
   "outputs": [],
   "source": [
    "points_df = pd.DataFrame(points).T\n",
    "points_df['total'] = points_df.iloc[:, :].sum(axis=1)\n",
    "points_df"
   ]
  },
  {
   "cell_type": "code",
   "execution_count": null,
   "id": "threaded-values",
   "metadata": {},
   "outputs": [],
   "source": [
    "points_df.to_csv(\"point_summary.csv\")"
   ]
  },
  {
   "cell_type": "code",
   "execution_count": null,
   "id": "rapid-aruba",
   "metadata": {},
   "outputs": [],
   "source": []
  }
 ],
 "metadata": {
  "kernelspec": {
   "display_name": "Python [conda env:gad_env]",
   "language": "python",
   "name": "conda-env-gad_env-py"
  },
  "language_info": {
   "codemirror_mode": {
    "name": "ipython",
    "version": 3
   },
   "file_extension": ".py",
   "mimetype": "text/x-python",
   "name": "python",
   "nbconvert_exporter": "python",
   "pygments_lexer": "ipython3",
   "version": "3.8.12"
  }
 },
 "nbformat": 4,
 "nbformat_minor": 5
}
