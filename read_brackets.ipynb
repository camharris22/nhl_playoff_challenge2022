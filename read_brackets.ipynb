{
 "cells": [
  {
   "cell_type": "markdown",
   "id": "filled-donor",
   "metadata": {},
   "source": [
    "# 2022 NHL Playoff Pool"
   ]
  },
  {
   "cell_type": "code",
   "execution_count": 1,
   "id": "monetary-privacy",
   "metadata": {},
   "outputs": [],
   "source": [
    "import pandas as pd\n",
    "import numpy as np\n",
    "import os"
   ]
  },
  {
   "cell_type": "code",
   "execution_count": 236,
   "id": "abroad-manchester",
   "metadata": {},
   "outputs": [],
   "source": [
    "# Initialize dicts\n",
    "picks = {}\n",
    "entries = {}\n",
    "points = {}"
   ]
  },
  {
   "cell_type": "code",
   "execution_count": 76,
   "id": "french-responsibility",
   "metadata": {},
   "outputs": [],
   "source": [
    "brackets = os.listdir('brackets')"
   ]
  },
  {
   "cell_type": "code",
   "execution_count": 190,
   "id": "ordered-words",
   "metadata": {},
   "outputs": [],
   "source": [
    "def read_brackets(brackets):\n",
    "    \"\"\"Read playoff bracket entries and save results as dict\"\"\"\n",
    "    for bracket in brackets:\n",
    "        df = pd.read_excel(\"brackets/\"+bracket, sheet_name='teams')\n",
    "        entrant_name = df['entrant_name'].dropna().item()\n",
    "        if entrant_name in picks.keys():\n",
    "            entrant_name+=' 2' \n",
    "        picks[entrant_name] = {\n",
    "            'rd1_selections' : df['rd1_selections'].dropna().to_list(),\n",
    "            'rd2_selections' : df['rd2_selections'].dropna().to_list(),\n",
    "            'rd3_selections' : df['rd3_selections'].dropna().to_list(),\n",
    "            'rd4_selections' : df['rd4_selections'].dropna().to_list(),\n",
    "            'tie_breaker' : df['tie_breaker'].dropna().to_list()\n",
    "        }\n",
    "    return picks"
   ]
  },
  {
   "cell_type": "code",
   "execution_count": 191,
   "id": "blessed-bunch",
   "metadata": {},
   "outputs": [
    {
     "data": {
      "text/plain": [
       "{'Cameron Harris': {'rd1_selections': ['NSH',\n",
       "   'EDM',\n",
       "   'COL',\n",
       "   'MIN',\n",
       "   'FLA',\n",
       "   'TBL',\n",
       "   'CAR',\n",
       "   'NYR'],\n",
       "  'rd2_selections': ['EDM', 'MIN', 'FLA', 'CAR'],\n",
       "  'rd3_selections': ['EDM', 'FLA'],\n",
       "  'rd4_selections': ['FLA'],\n",
       "  'tie_breaker': ['Pasternak']},\n",
       " 'Cameron Harris 2': {'rd1_selections': ['CGY',\n",
       "   'EDM',\n",
       "   'COL',\n",
       "   'MIN',\n",
       "   'FLA',\n",
       "   'TOR',\n",
       "   'BOS',\n",
       "   'NYR'],\n",
       "  'rd2_selections': ['CGY', 'COL', 'FLA', 'BOS'],\n",
       "  'rd3_selections': ['COL', 'BOS'],\n",
       "  'rd4_selections': ['COL'],\n",
       "  'tie_breaker': ['Pasternak']}}"
      ]
     },
     "execution_count": 191,
     "metadata": {},
     "output_type": "execute_result"
    }
   ],
   "source": [
    "read_brackets(brackets)"
   ]
  },
  {
   "cell_type": "code",
   "execution_count": 305,
   "id": "acute-jewel",
   "metadata": {},
   "outputs": [],
   "source": [
    "# Attempt class method to make this cleaner\n",
    "class bracket_entry:\n",
    "    \"\"\"Class to manage bracket entries and calculate points\"\"\"\n",
    "    def __init__(self, bracket_name):\n",
    "        self.bracket_name = bracket_name\n",
    "        \n",
    "    def read_brackets(self, bracket_name):\n",
    "        \"\"\"Read playoff bracket entries and save results as dict\"\"\"\n",
    "        df = pd.read_excel(\"brackets/\"+bracket_name, sheet_name='teams')\n",
    "        self.entrant_name = df['entrant_name'].dropna().item()\n",
    "        if self.entrant_name in picks.keys():\n",
    "            self.entrant_name = self.entrant_name + ' 2'\n",
    "\n",
    "        picks[self.entrant_name] = {\n",
    "            'rd1_selections' : df['rd1_selections'].dropna().to_list(),\n",
    "            'rd2_selections' : df['rd2_selections'].dropna().to_list(),\n",
    "            'rd3_selections' : df['rd3_selections'].dropna().to_list(),\n",
    "            'rd4_selections' : df['rd4_selections'].dropna().to_list(),\n",
    "            'tie_breaker' : df['tie_breaker'].dropna().to_list()\n",
    "        }\n",
    "        return picks\n",
    "    \n",
    "    def calc_points(self, picks, results):\n",
    "        \"\"\"Calculate pool points based on latest playoff results\"\"\"\n",
    "        # Create for loop to go through each round in result and append points accordingly\n",
    "        round1_picks = picks['rd1_selections']\n",
    "        round1_result = results['rd1_winners']\n",
    "        round1_points = len(set(round1_picks) & set(round1_result))*2\n",
    "        points = round1_points\n",
    "        return points"
   ]
  },
  {
   "cell_type": "code",
   "execution_count": 306,
   "id": "innocent-intranet",
   "metadata": {},
   "outputs": [],
   "source": [
    "# Initialize entries\n",
    "for n, bracket in enumerate(brackets):\n",
    "    entries[str(n+1)] = bracket_entry(bracket)"
   ]
  },
  {
   "cell_type": "code",
   "execution_count": 307,
   "id": "radio-substance",
   "metadata": {},
   "outputs": [
    {
     "data": {
      "text/plain": [
       "'bracket_2022_CameronTest1.xlsx'"
      ]
     },
     "execution_count": 307,
     "metadata": {},
     "output_type": "execute_result"
    }
   ],
   "source": [
    "entries['1'].bracket_name"
   ]
  },
  {
   "cell_type": "code",
   "execution_count": 308,
   "id": "thrown-selling",
   "metadata": {},
   "outputs": [
    {
     "data": {
      "text/plain": [
       "'bracket_2022_CameronTest.xlsx'"
      ]
     },
     "execution_count": 308,
     "metadata": {},
     "output_type": "execute_result"
    }
   ],
   "source": [
    "entries['2'].bracket_name"
   ]
  },
  {
   "cell_type": "code",
   "execution_count": 309,
   "id": "young-execution",
   "metadata": {},
   "outputs": [],
   "source": [
    "# Extract picks\n",
    "for entry_num, entry in entries.items():\n",
    "    picks = bracket_entry.read_brackets(bracket_entry, entry.bracket_name)"
   ]
  },
  {
   "cell_type": "code",
   "execution_count": 310,
   "id": "pointed-rotation",
   "metadata": {},
   "outputs": [
    {
     "data": {
      "text/plain": [
       "dict_keys(['Cameron Harris', 'Cameron Harris 2'])"
      ]
     },
     "execution_count": 310,
     "metadata": {},
     "output_type": "execute_result"
    }
   ],
   "source": [
    "picks.keys()"
   ]
  },
  {
   "cell_type": "code",
   "execution_count": 311,
   "id": "acting-perfume",
   "metadata": {},
   "outputs": [
    {
     "data": {
      "text/plain": [
       "{'Cameron Harris': {'rd1_selections': ['NSH',\n",
       "   'EDM',\n",
       "   'COL',\n",
       "   'MIN',\n",
       "   'FLA',\n",
       "   'TBL',\n",
       "   'CAR',\n",
       "   'NYR'],\n",
       "  'rd2_selections': ['EDM', 'MIN', 'FLA', 'CAR'],\n",
       "  'rd3_selections': ['EDM', 'FLA'],\n",
       "  'rd4_selections': ['FLA'],\n",
       "  'tie_breaker': ['Pasternak']},\n",
       " 'Cameron Harris 2': {'rd1_selections': ['CGY',\n",
       "   'EDM',\n",
       "   'COL',\n",
       "   'MIN',\n",
       "   'FLA',\n",
       "   'TOR',\n",
       "   'BOS',\n",
       "   'NYR'],\n",
       "  'rd2_selections': ['CGY', 'COL', 'FLA', 'BOS'],\n",
       "  'rd3_selections': ['COL', 'BOS'],\n",
       "  'rd4_selections': ['COL'],\n",
       "  'tie_breaker': ['Pasternak']}}"
      ]
     },
     "execution_count": 311,
     "metadata": {},
     "output_type": "execute_result"
    }
   ],
   "source": [
    "picks"
   ]
  },
  {
   "cell_type": "code",
   "execution_count": 312,
   "id": "floppy-realtor",
   "metadata": {},
   "outputs": [],
   "source": [
    "# Results by round\n",
    "results = {\n",
    "    'rd1_winners': [\n",
    "        'CGY',\n",
    "        'EDM',\n",
    "        'COL',\n",
    "        'MIN',\n",
    "        'FLA',\n",
    "        'TOR',\n",
    "        'CAR',\n",
    "        'PIT'\n",
    "    ]\n",
    "}"
   ]
  },
  {
   "cell_type": "code",
   "execution_count": 315,
   "id": "egyptian-medline",
   "metadata": {},
   "outputs": [
    {
     "data": {
      "text/plain": [
       "dict_keys(['rd1_winners'])"
      ]
     },
     "execution_count": 315,
     "metadata": {},
     "output_type": "execute_result"
    }
   ],
   "source": [
    "results.keys()"
   ]
  },
  {
   "cell_type": "code",
   "execution_count": 313,
   "id": "accessible-miami",
   "metadata": {},
   "outputs": [],
   "source": [
    "# Calculate points based on latest results\n",
    "points = {}\n",
    "for k, v in picks.items():\n",
    "    points[k] = bracket_entry.calc_points(bracket_entry, v, results)"
   ]
  },
  {
   "cell_type": "markdown",
   "id": "chemical-syracuse",
   "metadata": {},
   "source": [
    "## TO DO\n",
    "Investigate why this only works when I assign output from class method to a new dict, thougth I should be able to save the picks/results as attributes of each instance (e.g. self.picks, self.results)"
   ]
  },
  {
   "cell_type": "code",
   "execution_count": 314,
   "id": "reduced-jacob",
   "metadata": {},
   "outputs": [
    {
     "data": {
      "text/plain": [
       "{'Cameron Harris': 10, 'Cameron Harris 2': 12}"
      ]
     },
     "execution_count": 314,
     "metadata": {},
     "output_type": "execute_result"
    }
   ],
   "source": [
    "points"
   ]
  },
  {
   "cell_type": "code",
   "execution_count": null,
   "id": "compressed-college",
   "metadata": {},
   "outputs": [],
   "source": []
  }
 ],
 "metadata": {
  "kernelspec": {
   "display_name": "Python [conda env:gad_env]",
   "language": "python",
   "name": "conda-env-gad_env-py"
  },
  "language_info": {
   "codemirror_mode": {
    "name": "ipython",
    "version": 3
   },
   "file_extension": ".py",
   "mimetype": "text/x-python",
   "name": "python",
   "nbconvert_exporter": "python",
   "pygments_lexer": "ipython3",
   "version": "3.8.12"
  }
 },
 "nbformat": 4,
 "nbformat_minor": 5
}
