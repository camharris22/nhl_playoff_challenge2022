{
 "cells": [
  {
   "cell_type": "code",
   "execution_count": 117,
   "id": "other-williams",
   "metadata": {},
   "outputs": [],
   "source": [
    "import pandas as pd\n",
    "import numpy as np\n",
    "import matplotlib.pyplot as plt\n",
    "import dataframe_image as dfi\n",
    "import ast\n",
    "plt.style.use('fivethirtyeight')\n",
    "plt.rcParams[\"figure.figsize\"] = (10,5)"
   ]
  },
  {
   "cell_type": "code",
   "execution_count": 2,
   "id": "severe-istanbul",
   "metadata": {},
   "outputs": [],
   "source": [
    "df_picks = pd.read_csv(\"summary/picks_2022.csv\", index_col=0)\n",
    "# df_results = pd.read_csv(\"summary/results_2022.csv\", index_col=0)"
   ]
  },
  {
   "cell_type": "code",
   "execution_count": 3,
   "id": "satellite-closer",
   "metadata": {},
   "outputs": [
    {
     "data": {
      "text/plain": [
       "(5, 39)"
      ]
     },
     "execution_count": 3,
     "metadata": {},
     "output_type": "execute_result"
    }
   ],
   "source": [
    "df_picks.shape"
   ]
  },
  {
   "cell_type": "code",
   "execution_count": 4,
   "id": "ce78f157-cc55-4ffc-9b79-e4a358592987",
   "metadata": {},
   "outputs": [
    {
     "data": {
      "text/html": [
       "<div>\n",
       "<style scoped>\n",
       "    .dataframe tbody tr th:only-of-type {\n",
       "        vertical-align: middle;\n",
       "    }\n",
       "\n",
       "    .dataframe tbody tr th {\n",
       "        vertical-align: top;\n",
       "    }\n",
       "\n",
       "    .dataframe thead th {\n",
       "        text-align: right;\n",
       "    }\n",
       "</style>\n",
       "<table border=\"1\" class=\"dataframe\">\n",
       "  <thead>\n",
       "    <tr style=\"text-align: right;\">\n",
       "      <th></th>\n",
       "      <th>Darren Harris - 1</th>\n",
       "      <th>Darren Harris - 2</th>\n",
       "      <th>Alex Maund - 3</th>\n",
       "      <th>Alex More - 4</th>\n",
       "      <th>Blayre Woolsey - 5</th>\n",
       "      <th>Bob Woolsey Sr - 6</th>\n",
       "      <th>Brad Cleeve 1 - 7</th>\n",
       "      <th>Brad Cleeve 2 - 8</th>\n",
       "      <th>Brendan Close - 9</th>\n",
       "      <th>Cameron Harris - 10</th>\n",
       "      <th>...</th>\n",
       "      <th>Ryan Man - 30</th>\n",
       "      <th>Ryan Man 2 - 31</th>\n",
       "      <th>Scott Guilcher - 32</th>\n",
       "      <th>Sherrey Harris - 33</th>\n",
       "      <th>Thomas Crummell - 34</th>\n",
       "      <th>Thomas Crummell - 35</th>\n",
       "      <th>Chris Dilger - 36</th>\n",
       "      <th>Dan Bzdziuch - 37</th>\n",
       "      <th>Neil Spenceley - 38</th>\n",
       "      <th>Samantha Harris - 39</th>\n",
       "    </tr>\n",
       "  </thead>\n",
       "  <tbody>\n",
       "    <tr>\n",
       "      <th>rd1_selections</th>\n",
       "      <td>['NSH', 'MIN', 'DAL', 'EDM', 'FLA', 'TBL', 'CA...</td>\n",
       "      <td>['COL', 'STL', 'CGY', 'EDM', 'FLA', 'TBL', 'BO...</td>\n",
       "      <td>['COL', 'STL', 'CGY', 'EDM', 'FLA', 'TBL', 'CA...</td>\n",
       "      <td>['COL', 'STL', 'CGY', 'LAK', 'FLA', 'TOR', 'CA...</td>\n",
       "      <td>['COL', 'MIN', 'CGY', 'EDM', 'WSH', 'TOR', 'BO...</td>\n",
       "      <td>['COL', 'MIN', 'CGY', 'EDM', 'FLA', 'TOR', 'BO...</td>\n",
       "      <td>['COL', 'MIN', 'CGY', 'EDM', 'FLA', 'TOR', 'CA...</td>\n",
       "      <td>['COL', 'MIN', 'CGY', 'EDM', 'FLA', 'TBL', 'BO...</td>\n",
       "      <td>['COL', 'MIN', 'CGY', 'LAK', 'FLA', 'TBL', 'BO...</td>\n",
       "      <td>['COL', 'MIN', 'CGY', 'EDM', 'WSH', 'TOR', 'CA...</td>\n",
       "      <td>...</td>\n",
       "      <td>['COL', 'MIN', 'CGY', 'EDM', 'FLA', 'TBL', 'CA...</td>\n",
       "      <td>['COL', 'STL', 'CGY', 'EDM', 'FLA', 'TBL', 'BO...</td>\n",
       "      <td>['COL', 'MIN', 'CGY', 'EDM', 'FLA', 'TBL', 'BO...</td>\n",
       "      <td>['COL', 'MIN', 'CGY', 'LAK', 'FLA', 'TBL', 'CA...</td>\n",
       "      <td>['COL', 'STL', 'CGY', 'LAK', 'FLA', 'TBL', 'CA...</td>\n",
       "      <td>['COL', 'MIN', 'CGY', 'EDM', 'FLA', 'TOR', 'CA...</td>\n",
       "      <td>['COL', 'MIN', 'CGY', 'EDM', 'FLA', 'TBL', 'CA...</td>\n",
       "      <td>['COL', 'STL', 'CGY', 'EDM', 'FLA', 'TBL', 'CA...</td>\n",
       "      <td>['COL', 'MIN', 'CGY', 'EDM', 'FLA', 'TBL', 'CA...</td>\n",
       "      <td>['COL', 'STL', 'CGY', 'EDM', 'FLA', 'TBL', 'BO...</td>\n",
       "    </tr>\n",
       "    <tr>\n",
       "      <th>rd2_selections</th>\n",
       "      <td>['MIN', 'EDM', 'TBL', 'CAR']</td>\n",
       "      <td>['STL', 'EDM', 'TBL', 'BOS']</td>\n",
       "      <td>['COL', 'CGY', 'FLA', 'CAR']</td>\n",
       "      <td>['STL', 'CGY', 'TOR', 'CAR']</td>\n",
       "      <td>['COL', 'CGY', 'WSH', 'PIT']</td>\n",
       "      <td>['MIN', 'CGY', 'TOR', 'NYR']</td>\n",
       "      <td>['COL', 'CGY', 'FLA', 'NYR']</td>\n",
       "      <td>['COL', 'EDM', 'FLA', 'PIT']</td>\n",
       "      <td>['COL', 'CGY', 'FLA', 'NYR']</td>\n",
       "      <td>['MIN', 'CGY', 'TOR', 'CAR']</td>\n",
       "      <td>...</td>\n",
       "      <td>['COL', 'CGY', 'FLA', 'NYR']</td>\n",
       "      <td>['COL', 'CGY', 'FLA', 'BOS']</td>\n",
       "      <td>['COL', 'CGY', 'TBL', 'BOS']</td>\n",
       "      <td>['COL', 'CGY', 'FLA', 'PIT']</td>\n",
       "      <td>['COL', 'LAK', 'TBL', 'CAR']</td>\n",
       "      <td>['COL', 'CGY', 'FLA', 'CAR']</td>\n",
       "      <td>['COL', 'CGY', 'TBL', 'CAR']</td>\n",
       "      <td>['STL', 'CGY', 'TBL', 'NYR']</td>\n",
       "      <td>['COL', 'CGY', 'FLA', 'NYR']</td>\n",
       "      <td>['COL', 'CGY', 'TBL', 'BOS']</td>\n",
       "    </tr>\n",
       "    <tr>\n",
       "      <th>rd3_selections</th>\n",
       "      <td>['EDM', 'TBL']</td>\n",
       "      <td>['STL', 'TBL']</td>\n",
       "      <td>['COL', 'FLA']</td>\n",
       "      <td>['CGY', 'CAR']</td>\n",
       "      <td>['COL', 'WSH']</td>\n",
       "      <td>['CGY', 'TOR']</td>\n",
       "      <td>['COL', 'FLA']</td>\n",
       "      <td>['COL', 'FLA']</td>\n",
       "      <td>['COL', 'FLA']</td>\n",
       "      <td>['MIN', 'CAR']</td>\n",
       "      <td>...</td>\n",
       "      <td>['COL', 'FLA']</td>\n",
       "      <td>['CGY', 'FLA']</td>\n",
       "      <td>['CGY', 'BOS']</td>\n",
       "      <td>['COL', 'FLA']</td>\n",
       "      <td>['COL', 'CAR']</td>\n",
       "      <td>['COL', 'FLA']</td>\n",
       "      <td>['COL', 'TBL']</td>\n",
       "      <td>['CGY', 'TBL']</td>\n",
       "      <td>['CGY', 'FLA']</td>\n",
       "      <td>['COL', 'TBL']</td>\n",
       "    </tr>\n",
       "    <tr>\n",
       "      <th>rd4_selections</th>\n",
       "      <td>['EDM']</td>\n",
       "      <td>['TBL']</td>\n",
       "      <td>['COL']</td>\n",
       "      <td>['CGY']</td>\n",
       "      <td>['COL']</td>\n",
       "      <td>['TOR']</td>\n",
       "      <td>['COL']</td>\n",
       "      <td>['FLA']</td>\n",
       "      <td>['FLA']</td>\n",
       "      <td>['MIN']</td>\n",
       "      <td>...</td>\n",
       "      <td>['COL']</td>\n",
       "      <td>['FLA']</td>\n",
       "      <td>['CGY']</td>\n",
       "      <td>['COL']</td>\n",
       "      <td>['CAR']</td>\n",
       "      <td>['COL']</td>\n",
       "      <td>['COL']</td>\n",
       "      <td>['CGY']</td>\n",
       "      <td>['CGY']</td>\n",
       "      <td>['COL']</td>\n",
       "    </tr>\n",
       "    <tr>\n",
       "      <th>tie_breaker</th>\n",
       "      <td>['Mcdavid']</td>\n",
       "      <td>['Kucherov']</td>\n",
       "      <td>['Barkov']</td>\n",
       "      <td>['Johnny Gaudreau']</td>\n",
       "      <td>['Nathan MacKinnon']</td>\n",
       "      <td>['Nylander']</td>\n",
       "      <td>['Nathan MacKinnon']</td>\n",
       "      <td>['Jonathan Huberdeau']</td>\n",
       "      <td>['Huberdeau']</td>\n",
       "      <td>['Kaprizov']</td>\n",
       "      <td>...</td>\n",
       "      <td>['Mikko Rantanen']</td>\n",
       "      <td>['Jon Huberdeau']</td>\n",
       "      <td>['\\nMatthew Tkachuk']</td>\n",
       "      <td>['MacKinnon']</td>\n",
       "      <td>['Sebastian Aho ']</td>\n",
       "      <td>['Mackinnon']</td>\n",
       "      <td>['Nathan McKinnon']</td>\n",
       "      <td>['J. Gaudreu']</td>\n",
       "      <td>['Johnathan Huberdeau']</td>\n",
       "      <td>['Nathan MacKinnon']</td>\n",
       "    </tr>\n",
       "  </tbody>\n",
       "</table>\n",
       "<p>5 rows × 39 columns</p>\n",
       "</div>"
      ],
      "text/plain": [
       "                                                Darren Harris - 1  \\\n",
       "rd1_selections  ['NSH', 'MIN', 'DAL', 'EDM', 'FLA', 'TBL', 'CA...   \n",
       "rd2_selections                       ['MIN', 'EDM', 'TBL', 'CAR']   \n",
       "rd3_selections                                     ['EDM', 'TBL']   \n",
       "rd4_selections                                            ['EDM']   \n",
       "tie_breaker                                           ['Mcdavid']   \n",
       "\n",
       "                                                Darren Harris - 2  \\\n",
       "rd1_selections  ['COL', 'STL', 'CGY', 'EDM', 'FLA', 'TBL', 'BO...   \n",
       "rd2_selections                       ['STL', 'EDM', 'TBL', 'BOS']   \n",
       "rd3_selections                                     ['STL', 'TBL']   \n",
       "rd4_selections                                            ['TBL']   \n",
       "tie_breaker                                          ['Kucherov']   \n",
       "\n",
       "                                                   Alex Maund - 3  \\\n",
       "rd1_selections  ['COL', 'STL', 'CGY', 'EDM', 'FLA', 'TBL', 'CA...   \n",
       "rd2_selections                       ['COL', 'CGY', 'FLA', 'CAR']   \n",
       "rd3_selections                                     ['COL', 'FLA']   \n",
       "rd4_selections                                            ['COL']   \n",
       "tie_breaker                                            ['Barkov']   \n",
       "\n",
       "                                                    Alex More - 4  \\\n",
       "rd1_selections  ['COL', 'STL', 'CGY', 'LAK', 'FLA', 'TOR', 'CA...   \n",
       "rd2_selections                       ['STL', 'CGY', 'TOR', 'CAR']   \n",
       "rd3_selections                                     ['CGY', 'CAR']   \n",
       "rd4_selections                                            ['CGY']   \n",
       "tie_breaker                                   ['Johnny Gaudreau']   \n",
       "\n",
       "                                               Blayre Woolsey - 5  \\\n",
       "rd1_selections  ['COL', 'MIN', 'CGY', 'EDM', 'WSH', 'TOR', 'BO...   \n",
       "rd2_selections                       ['COL', 'CGY', 'WSH', 'PIT']   \n",
       "rd3_selections                                     ['COL', 'WSH']   \n",
       "rd4_selections                                            ['COL']   \n",
       "tie_breaker                                  ['Nathan MacKinnon']   \n",
       "\n",
       "                                               Bob Woolsey Sr - 6  \\\n",
       "rd1_selections  ['COL', 'MIN', 'CGY', 'EDM', 'FLA', 'TOR', 'BO...   \n",
       "rd2_selections                       ['MIN', 'CGY', 'TOR', 'NYR']   \n",
       "rd3_selections                                     ['CGY', 'TOR']   \n",
       "rd4_selections                                            ['TOR']   \n",
       "tie_breaker                                          ['Nylander']   \n",
       "\n",
       "                                                Brad Cleeve 1 - 7  \\\n",
       "rd1_selections  ['COL', 'MIN', 'CGY', 'EDM', 'FLA', 'TOR', 'CA...   \n",
       "rd2_selections                       ['COL', 'CGY', 'FLA', 'NYR']   \n",
       "rd3_selections                                     ['COL', 'FLA']   \n",
       "rd4_selections                                            ['COL']   \n",
       "tie_breaker                                  ['Nathan MacKinnon']   \n",
       "\n",
       "                                                Brad Cleeve 2 - 8  \\\n",
       "rd1_selections  ['COL', 'MIN', 'CGY', 'EDM', 'FLA', 'TBL', 'BO...   \n",
       "rd2_selections                       ['COL', 'EDM', 'FLA', 'PIT']   \n",
       "rd3_selections                                     ['COL', 'FLA']   \n",
       "rd4_selections                                            ['FLA']   \n",
       "tie_breaker                                ['Jonathan Huberdeau']   \n",
       "\n",
       "                                                Brendan Close - 9  \\\n",
       "rd1_selections  ['COL', 'MIN', 'CGY', 'LAK', 'FLA', 'TBL', 'BO...   \n",
       "rd2_selections                       ['COL', 'CGY', 'FLA', 'NYR']   \n",
       "rd3_selections                                     ['COL', 'FLA']   \n",
       "rd4_selections                                            ['FLA']   \n",
       "tie_breaker                                         ['Huberdeau']   \n",
       "\n",
       "                                              Cameron Harris - 10  ...  \\\n",
       "rd1_selections  ['COL', 'MIN', 'CGY', 'EDM', 'WSH', 'TOR', 'CA...  ...   \n",
       "rd2_selections                       ['MIN', 'CGY', 'TOR', 'CAR']  ...   \n",
       "rd3_selections                                     ['MIN', 'CAR']  ...   \n",
       "rd4_selections                                            ['MIN']  ...   \n",
       "tie_breaker                                          ['Kaprizov']  ...   \n",
       "\n",
       "                                                    Ryan Man - 30  \\\n",
       "rd1_selections  ['COL', 'MIN', 'CGY', 'EDM', 'FLA', 'TBL', 'CA...   \n",
       "rd2_selections                       ['COL', 'CGY', 'FLA', 'NYR']   \n",
       "rd3_selections                                     ['COL', 'FLA']   \n",
       "rd4_selections                                            ['COL']   \n",
       "tie_breaker                                    ['Mikko Rantanen']   \n",
       "\n",
       "                                                  Ryan Man 2 - 31  \\\n",
       "rd1_selections  ['COL', 'STL', 'CGY', 'EDM', 'FLA', 'TBL', 'BO...   \n",
       "rd2_selections                       ['COL', 'CGY', 'FLA', 'BOS']   \n",
       "rd3_selections                                     ['CGY', 'FLA']   \n",
       "rd4_selections                                            ['FLA']   \n",
       "tie_breaker                                     ['Jon Huberdeau']   \n",
       "\n",
       "                                              Scott Guilcher - 32  \\\n",
       "rd1_selections  ['COL', 'MIN', 'CGY', 'EDM', 'FLA', 'TBL', 'BO...   \n",
       "rd2_selections                       ['COL', 'CGY', 'TBL', 'BOS']   \n",
       "rd3_selections                                     ['CGY', 'BOS']   \n",
       "rd4_selections                                            ['CGY']   \n",
       "tie_breaker                                 ['\\nMatthew Tkachuk']   \n",
       "\n",
       "                                              Sherrey Harris - 33  \\\n",
       "rd1_selections  ['COL', 'MIN', 'CGY', 'LAK', 'FLA', 'TBL', 'CA...   \n",
       "rd2_selections                       ['COL', 'CGY', 'FLA', 'PIT']   \n",
       "rd3_selections                                     ['COL', 'FLA']   \n",
       "rd4_selections                                            ['COL']   \n",
       "tie_breaker                                         ['MacKinnon']   \n",
       "\n",
       "                                             Thomas Crummell - 34  \\\n",
       "rd1_selections  ['COL', 'STL', 'CGY', 'LAK', 'FLA', 'TBL', 'CA...   \n",
       "rd2_selections                       ['COL', 'LAK', 'TBL', 'CAR']   \n",
       "rd3_selections                                     ['COL', 'CAR']   \n",
       "rd4_selections                                            ['CAR']   \n",
       "tie_breaker                                    ['Sebastian Aho ']   \n",
       "\n",
       "                                             Thomas Crummell - 35  \\\n",
       "rd1_selections  ['COL', 'MIN', 'CGY', 'EDM', 'FLA', 'TOR', 'CA...   \n",
       "rd2_selections                       ['COL', 'CGY', 'FLA', 'CAR']   \n",
       "rd3_selections                                     ['COL', 'FLA']   \n",
       "rd4_selections                                            ['COL']   \n",
       "tie_breaker                                         ['Mackinnon']   \n",
       "\n",
       "                                                Chris Dilger - 36  \\\n",
       "rd1_selections  ['COL', 'MIN', 'CGY', 'EDM', 'FLA', 'TBL', 'CA...   \n",
       "rd2_selections                       ['COL', 'CGY', 'TBL', 'CAR']   \n",
       "rd3_selections                                     ['COL', 'TBL']   \n",
       "rd4_selections                                            ['COL']   \n",
       "tie_breaker                                   ['Nathan McKinnon']   \n",
       "\n",
       "                                                Dan Bzdziuch - 37  \\\n",
       "rd1_selections  ['COL', 'STL', 'CGY', 'EDM', 'FLA', 'TBL', 'CA...   \n",
       "rd2_selections                       ['STL', 'CGY', 'TBL', 'NYR']   \n",
       "rd3_selections                                     ['CGY', 'TBL']   \n",
       "rd4_selections                                            ['CGY']   \n",
       "tie_breaker                                        ['J. Gaudreu']   \n",
       "\n",
       "                                              Neil Spenceley - 38  \\\n",
       "rd1_selections  ['COL', 'MIN', 'CGY', 'EDM', 'FLA', 'TBL', 'CA...   \n",
       "rd2_selections                       ['COL', 'CGY', 'FLA', 'NYR']   \n",
       "rd3_selections                                     ['CGY', 'FLA']   \n",
       "rd4_selections                                            ['CGY']   \n",
       "tie_breaker                               ['Johnathan Huberdeau']   \n",
       "\n",
       "                                             Samantha Harris - 39  \n",
       "rd1_selections  ['COL', 'STL', 'CGY', 'EDM', 'FLA', 'TBL', 'BO...  \n",
       "rd2_selections                       ['COL', 'CGY', 'TBL', 'BOS']  \n",
       "rd3_selections                                     ['COL', 'TBL']  \n",
       "rd4_selections                                            ['COL']  \n",
       "tie_breaker                                  ['Nathan MacKinnon']  \n",
       "\n",
       "[5 rows x 39 columns]"
      ]
     },
     "execution_count": 4,
     "metadata": {},
     "output_type": "execute_result"
    }
   ],
   "source": [
    "df_picks.head()"
   ]
  },
  {
   "cell_type": "code",
   "execution_count": 17,
   "id": "032b5e63-a272-44e7-9ebe-bb08363b5144",
   "metadata": {},
   "outputs": [
    {
     "data": {
      "text/plain": [
       "\"['NSH', 'MIN', 'DAL', 'EDM', 'FLA', 'TBL', 'CAR', 'PIT']\""
      ]
     },
     "execution_count": 17,
     "metadata": {},
     "output_type": "execute_result"
    }
   ],
   "source": [
    "df_picks.iloc[0,0]"
   ]
  },
  {
   "cell_type": "code",
   "execution_count": 68,
   "id": "6a324199-6766-4f18-b72d-2f070b15db87",
   "metadata": {},
   "outputs": [],
   "source": [
    "# count picks in first round\n",
    "pick_counter = {}\n",
    "    \n",
    "def count_picks(picks_round):\n",
    "    rd = picks_round.name\n",
    "    pick_counter[rd] = {}\n",
    "    for persons_picks in picks_round:\n",
    "        for pick in ast.literal_eval(persons_picks):\n",
    "            if pick in pick_counter[rd].keys():\n",
    "                pick_counter[rd][pick]+=1\n",
    "            else:\n",
    "                pick_counter[rd][pick]=1\n",
    "    return pick_counter\n",
    "\n",
    "pick_summary = df_picks.apply(count_picks, axis=1).rd1_selections"
   ]
  },
  {
   "cell_type": "code",
   "execution_count": 72,
   "id": "cafb23f4-63a3-4835-b84d-b80490b7b08f",
   "metadata": {},
   "outputs": [
    {
     "data": {
      "text/plain": [
       "{'NSH': 2,\n",
       " 'MIN': 28,\n",
       " 'DAL': 2,\n",
       " 'EDM': 34,\n",
       " 'FLA': 35,\n",
       " 'TBL': 21,\n",
       " 'CAR': 17,\n",
       " 'PIT': 19,\n",
       " 'COL': 37,\n",
       " 'STL': 11,\n",
       " 'CGY': 37,\n",
       " 'BOS': 22,\n",
       " 'NYR': 20,\n",
       " 'LAK': 5,\n",
       " 'TOR': 18,\n",
       " 'WSH': 4}"
      ]
     },
     "execution_count": 72,
     "metadata": {},
     "output_type": "execute_result"
    }
   ],
   "source": [
    "pick_summary['rd1_selections']"
   ]
  },
  {
   "cell_type": "code",
   "execution_count": 137,
   "id": "f0eb31d0-e3d8-4d75-b79d-4f9b2ca7fc28",
   "metadata": {},
   "outputs": [
    {
     "data": {
      "image/png": "[encoded data removed]",
      "text/plain": [
       "<Figure size 720x360 with 1 Axes>"
      ]
     },
     "metadata": {},
     "output_type": "display_data"
    }
   ],
   "source": [
    "rd1_matchups = {\n",
    "    1 : ('NSH', 'COL'),\n",
    "    2 : ('MIN','STL'),\n",
    "    3 : ('DAL', 'CGY'),\n",
    "    4 : ('EDM', 'LAK'),\n",
    "    5 : ('FLA', 'WSH'),\n",
    "    6 : ('TBL', 'TOR'),\n",
    "    7 : ('CAR', 'BOS'),\n",
    "    8 : ('PIT', 'NYR'),\n",
    "\n",
    "}\n",
    "\n",
    "for k, v in rd1_matchups.items():\n",
    "    plt.bar(x=[v[0], v[1]],\n",
    "            height=[pick_summary['rd1_selections'][v[0]], pick_summary['rd1_selections'][v[1]]])\n",
    "    plt.title(\"First Round Predictions\")\n",
    "\n",
    "plt.savefig('img/rd1_pred.png');"
   ]
  },
  {
   "cell_type": "code",
   "execution_count": 135,
   "id": "8011f082-6e32-434d-980d-2abfb0a31457",
   "metadata": {},
   "outputs": [
    {
     "data": {
      "text/plain": [
       "<Figure size 720x360 with 0 Axes>"
      ]
     },
     "metadata": {},
     "output_type": "display_data"
    }
   ],
   "source": []
  },
  {
   "cell_type": "code",
   "execution_count": null,
   "id": "a203e57d-16f3-41a1-821e-bb00b2c4b8f4",
   "metadata": {},
   "outputs": [],
   "source": []
  },
  {
   "cell_type": "code",
   "execution_count": 132,
   "id": "eb2caa77-1aa9-4fbd-9f3d-f3bc2bcffff1",
   "metadata": {},
   "outputs": [],
   "source": [
    "c = ['midnightblue', 'c', 'maroon', 'orangered', 'b', 'red', 'g', 'k']"
   ]
  },
  {
   "cell_type": "code",
   "execution_count": 138,
   "id": "0ad244d3-a768-49ef-a937-1c7623f5acdc",
   "metadata": {},
   "outputs": [
    {
     "data": {
      "image/png": "[encoded data removed]",
      "text/plain": [
       "<Figure size 720x360 with 1 Axes>"
      ]
     },
     "metadata": {},
     "output_type": "display_data"
    }
   ],
   "source": [
    "plt.bar(x=pick_summary['rd4_selections'].keys(), height=pick_summary['rd4_selections'].values(), color=c)\n",
    "plt.title('Cup Predictions')\n",
    "plt.savefig('img/cup_pred.png');"
   ]
  },
  {
   "cell_type": "code",
   "execution_count": null,
   "id": "ac66a55c-9846-4dad-a79b-30cc235043f2",
   "metadata": {},
   "outputs": [],
   "source": []
  },
  {
   "cell_type": "code",
   "execution_count": null,
   "id": "7b9cf819-cb7f-4f24-8dc7-1c8fcb565de9",
   "metadata": {},
   "outputs": [],
   "source": []
  },
  {
   "cell_type": "code",
   "execution_count": null,
   "id": "fa7d7e94-dc2f-4cd1-901e-2dd1a68337ab",
   "metadata": {},
   "outputs": [],
   "source": []
  },
  {
   "cell_type": "code",
   "execution_count": 5,
   "id": "9ebefe9d-5934-4a07-a09c-b983b15f6749",
   "metadata": {},
   "outputs": [
    {
     "ename": "NameError",
     "evalue": "name 'df_results' is not defined",
     "output_type": "error",
     "traceback": [
      "\u001b[0;31m---------------------------------------------------------------------------\u001b[0m",
      "\u001b[0;31mNameError\u001b[0m                                 Traceback (most recent call last)",
      "\u001b[0;32m/var/folders/md/yj282d5538g_ghxmlmmqp8xc0000gn/T/ipykernel_20065/464063463.py\u001b[0m in \u001b[0;36m<module>\u001b[0;34m\u001b[0m\n\u001b[0;32m----> 1\u001b[0;31m \u001b[0mdf_results\u001b[0m\u001b[0;34m.\u001b[0m\u001b[0msort_values\u001b[0m\u001b[0;34m(\u001b[0m\u001b[0mby\u001b[0m\u001b[0;34m=\u001b[0m\u001b[0;34m'total_points'\u001b[0m\u001b[0;34m,\u001b[0m \u001b[0mascending\u001b[0m\u001b[0;34m=\u001b[0m\u001b[0;32mFalse\u001b[0m\u001b[0;34m)\u001b[0m\u001b[0;34m\u001b[0m\u001b[0;34m\u001b[0m\u001b[0m\n\u001b[0m",
      "\u001b[0;31mNameError\u001b[0m: name 'df_results' is not defined"
     ]
    }
   ],
   "source": [
    "df_results.sort_values(by='total_points', ascending=False)"
   ]
  },
  {
   "cell_type": "code",
   "execution_count": null,
   "id": "revised-mistake",
   "metadata": {},
   "outputs": [],
   "source": [
    "df_results.style.highlight_max(subset='total_points')"
   ]
  },
  {
   "cell_type": "code",
   "execution_count": null,
   "id": "finished-broadcasting",
   "metadata": {},
   "outputs": [],
   "source": [
    "# Save png of results df\n",
    "dfi.export(df_results, \"points.png\")"
   ]
  },
  {
   "cell_type": "code",
   "execution_count": null,
   "id": "proved-norfolk",
   "metadata": {},
   "outputs": [],
   "source": []
  }
 ],
 "metadata": {
  "kernelspec": {
   "display_name": "Python 3 (ipykernel)",
   "language": "python",
   "name": "python3"
  },
  "language_info": {
   "codemirror_mode": {
    "name": "ipython",
    "version": 3
   },
   "file_extension": ".py",
   "mimetype": "text/x-python",
   "name": "python",
   "nbconvert_exporter": "python",
   "pygments_lexer": "ipython3",
   "version": "3.8.12"
  }
 },
 "nbformat": 4,
 "nbformat_minor": 5
}
