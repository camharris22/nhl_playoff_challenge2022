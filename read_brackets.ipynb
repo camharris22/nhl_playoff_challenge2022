{
 "cells": [
  {
   "cell_type": "markdown",
   "id": "comparable-starter",
   "metadata": {},
   "source": [
    "# 2022 NHL Playoff Pool"
   ]
  },
  {
   "cell_type": "code",
   "execution_count": 1,
   "id": "attached-italy",
   "metadata": {},
   "outputs": [],
   "source": [
    "import pandas as pd\n",
    "import numpy as np\n",
    "import os"
   ]
  },
  {
   "cell_type": "code",
   "execution_count": 236,
   "id": "reverse-vancouver",
   "metadata": {},
   "outputs": [],
   "source": [
    "# Initialize dicts\n",
    "picks = {}\n",
    "entries = {}\n",
    "points = {}"
   ]
  },
  {
   "cell_type": "code",
   "execution_count": 76,
   "id": "possible-donna",
   "metadata": {},
   "outputs": [],
   "source": [
    "brackets = os.listdir('brackets')"
   ]
  },
  {
   "cell_type": "code",
   "execution_count": 190,
   "id": "broken-feeding",
   "metadata": {},
   "outputs": [],
   "source": [
    "def read_brackets(brackets):\n",
    "    \"\"\"Read playoff bracket entries and save results as dict\"\"\"\n",
    "    for bracket in brackets:\n",
    "        df = pd.read_excel(\"brackets/\"+bracket, sheet_name='teams')\n",
    "        entrant_name = df['entrant_name'].dropna().item()\n",
    "        if entrant_name in picks.keys():\n",
    "            entrant_name+=' 2' \n",
    "        picks[entrant_name] = {\n",
    "            'rd1_selections' : df['rd1_selections'].dropna().to_list(),\n",
    "            'rd2_selections' : df['rd2_selections'].dropna().to_list(),\n",
    "            'rd3_selections' : df['rd3_selections'].dropna().to_list(),\n",
    "            'rd4_selections' : df['rd4_selections'].dropna().to_list(),\n",
    "            'tie_breaker' : df['tie_breaker'].dropna().to_list()\n",
    "        }\n",
    "    return picks"
   ]
  },
  {
   "cell_type": "code",
   "execution_count": 191,
   "id": "whole-planning",
   "metadata": {},
   "outputs": [
    {
     "data": {
      "text/plain": [
       "{'Cameron Harris': {'rd1_selections': ['NSH',\n",
       "   'EDM',\n",
       "   'COL',\n",
       "   'MIN',\n",
       "   'FLA',\n",
       "   'TBL',\n",
       "   'CAR',\n",
       "   'NYR'],\n",
       "  'rd2_selections': ['EDM', 'MIN', 'FLA', 'CAR'],\n",
       "  'rd3_selections': ['EDM', 'FLA'],\n",
       "  'rd4_selections': ['FLA'],\n",
       "  'tie_breaker': ['Pasternak']},\n",
       " 'Cameron Harris 2': {'rd1_selections': ['CGY',\n",
       "   'EDM',\n",
       "   'COL',\n",
       "   'MIN',\n",
       "   'FLA',\n",
       "   'TOR',\n",
       "   'BOS',\n",
       "   'NYR'],\n",
       "  'rd2_selections': ['CGY', 'COL', 'FLA', 'BOS'],\n",
       "  'rd3_selections': ['COL', 'BOS'],\n",
       "  'rd4_selections': ['COL'],\n",
       "  'tie_breaker': ['Pasternak']}}"
      ]
     },
     "execution_count": 191,
     "metadata": {},
     "output_type": "execute_result"
    }
   ],
   "source": [
    "read_brackets(brackets)"
   ]
  },
  {
   "cell_type": "code",
   "execution_count": 379,
   "id": "developing-template",
   "metadata": {},
   "outputs": [],
   "source": [
    "# Attempt class method to make this cleaner\n",
    "class bracket_entry:\n",
    "    \"\"\"Class to manage bracket entries and calculate points\"\"\"\n",
    "    def __init__(self, bracket_name):\n",
    "        self.bracket_name = bracket_name\n",
    "        \n",
    "    def read_brackets(self, bracket_name):\n",
    "        \"\"\"Read playoff bracket entries and save results as dict\"\"\"\n",
    "        df = pd.read_excel(\"brackets/\"+bracket_name, sheet_name='teams')\n",
    "        self.entrant_name = df['entrant_name'].dropna().item()\n",
    "        if self.entrant_name in picks.keys():\n",
    "            self.entrant_name = self.entrant_name + ' 2'\n",
    "\n",
    "        picks[self.entrant_name] = {\n",
    "            'rd1_selections' : df['rd1_selections'].dropna().to_list(),\n",
    "            'rd2_selections' : df['rd2_selections'].dropna().to_list(),\n",
    "            'rd3_selections' : df['rd3_selections'].dropna().to_list(),\n",
    "            'rd4_selections' : df['rd4_selections'].dropna().to_list(),\n",
    "            'tie_breaker' : df['tie_breaker'].dropna().to_list()\n",
    "        }\n",
    "        return picks\n",
    "    \n",
    "    def calc_points(self, picks, results):\n",
    "        \"\"\"Calculate pool points based on latest playoff results\"\"\"\n",
    "        # Create for loop to go through each round in result and append points accordingly\n",
    "        all_points = {}\n",
    "        points_by_round = {\n",
    "            'rd1': 2,\n",
    "            'rd2': 4,\n",
    "            'rd3': 8,\n",
    "            'rd4': 17\n",
    "        }\n",
    "        for rd in results.keys():\n",
    "            round_picks = picks[rd+'_selections']\n",
    "            round_result = results[rd]\n",
    "            round_points = len(set(round_picks) & set(round_result))*points_by_round[rd]\n",
    "            all_points[rd+'_points'] = round_points\n",
    "        return all_points"
   ]
  },
  {
   "cell_type": "code",
   "execution_count": 380,
   "id": "determined-clerk",
   "metadata": {},
   "outputs": [],
   "source": [
    "# Initialize entries\n",
    "for n, bracket in enumerate(brackets):\n",
    "    entries[str(n+1)] = bracket_entry(bracket)"
   ]
  },
  {
   "cell_type": "code",
   "execution_count": 381,
   "id": "original-attempt",
   "metadata": {},
   "outputs": [
    {
     "data": {
      "text/plain": [
       "'bracket_2022_CameronTest1.xlsx'"
      ]
     },
     "execution_count": 381,
     "metadata": {},
     "output_type": "execute_result"
    }
   ],
   "source": [
    "entries['1'].bracket_name"
   ]
  },
  {
   "cell_type": "code",
   "execution_count": 382,
   "id": "front-address",
   "metadata": {},
   "outputs": [
    {
     "data": {
      "text/plain": [
       "'bracket_2022_CameronTest.xlsx'"
      ]
     },
     "execution_count": 382,
     "metadata": {},
     "output_type": "execute_result"
    }
   ],
   "source": [
    "entries['2'].bracket_name"
   ]
  },
  {
   "cell_type": "code",
   "execution_count": 383,
   "id": "integrated-retirement",
   "metadata": {},
   "outputs": [],
   "source": [
    "# Extract picks\n",
    "for entry_num, entry in entries.items():\n",
    "    picks = bracket_entry.read_brackets(bracket_entry, entry.bracket_name)"
   ]
  },
  {
   "cell_type": "code",
   "execution_count": 384,
   "id": "comprehensive-situation",
   "metadata": {},
   "outputs": [
    {
     "data": {
      "text/plain": [
       "dict_keys(['Cameron Harris', 'Cameron Harris 2'])"
      ]
     },
     "execution_count": 384,
     "metadata": {},
     "output_type": "execute_result"
    }
   ],
   "source": [
    "picks.keys()"
   ]
  },
  {
   "cell_type": "code",
   "execution_count": 385,
   "id": "orange-observer",
   "metadata": {},
   "outputs": [
    {
     "data": {
      "text/plain": [
       "{'Cameron Harris': {'rd1_selections': ['NSH',\n",
       "   'EDM',\n",
       "   'COL',\n",
       "   'MIN',\n",
       "   'FLA',\n",
       "   'TBL',\n",
       "   'CAR',\n",
       "   'NYR'],\n",
       "  'rd2_selections': ['EDM', 'MIN', 'FLA', 'CAR'],\n",
       "  'rd3_selections': ['EDM', 'FLA'],\n",
       "  'rd4_selections': ['FLA'],\n",
       "  'tie_breaker': ['Pasternak']},\n",
       " 'Cameron Harris 2': {'rd1_selections': ['CGY',\n",
       "   'EDM',\n",
       "   'COL',\n",
       "   'MIN',\n",
       "   'FLA',\n",
       "   'TOR',\n",
       "   'BOS',\n",
       "   'NYR'],\n",
       "  'rd2_selections': ['CGY', 'COL', 'FLA', 'BOS'],\n",
       "  'rd3_selections': ['COL', 'BOS'],\n",
       "  'rd4_selections': ['COL'],\n",
       "  'tie_breaker': ['Pasternak']}}"
      ]
     },
     "execution_count": 385,
     "metadata": {},
     "output_type": "execute_result"
    }
   ],
   "source": [
    "picks"
   ]
  },
  {
   "cell_type": "code",
   "execution_count": 386,
   "id": "cardiac-gross",
   "metadata": {},
   "outputs": [],
   "source": [
    "# Results by round\n",
    "results = {\n",
    "    'rd1': [\n",
    "        'CGY',\n",
    "        'EDM',\n",
    "        'COL',\n",
    "        'MIN',\n",
    "        'FLA',\n",
    "        'TOR',\n",
    "        'CAR',\n",
    "        'PIT'\n",
    "    ],\n",
    "    'rd2': [\n",
    "        'EDM',\n",
    "        'COL',\n",
    "        'FLA',\n",
    "        'PIT'\n",
    "    ],\n",
    "    'rd3': [\n",
    "        'COL',\n",
    "        'FLA'\n",
    "    ],\n",
    "    'rd4': [\n",
    "        'FLA'\n",
    "    ]\n",
    "}"
   ]
  },
  {
   "cell_type": "code",
   "execution_count": 387,
   "id": "magnetic-david",
   "metadata": {},
   "outputs": [
    {
     "data": {
      "text/plain": [
       "dict_keys(['rd1', 'rd2', 'rd3', 'rd4'])"
      ]
     },
     "execution_count": 387,
     "metadata": {},
     "output_type": "execute_result"
    }
   ],
   "source": [
    "results.keys()"
   ]
  },
  {
   "cell_type": "code",
   "execution_count": 388,
   "id": "greatest-corner",
   "metadata": {},
   "outputs": [],
   "source": [
    "# Calculate points based on latest results\n",
    "points = {}\n",
    "for k, v in picks.items():\n",
    "    points[k] = bracket_entry.calc_points(bracket_entry, v, results)"
   ]
  },
  {
   "cell_type": "markdown",
   "id": "unlikely-organ",
   "metadata": {},
   "source": [
    "## TO DO\n",
    "Investigate why this only works when I assign output from class method to a new dict, thougth I should be able to save the picks/results as attributes of each instance (e.g. self.picks, self.results)"
   ]
  },
  {
   "cell_type": "code",
   "execution_count": 389,
   "id": "supreme-hopkins",
   "metadata": {},
   "outputs": [
    {
     "data": {
      "text/plain": [
       "{'Cameron Harris': {'rd1_points': 10,\n",
       "  'rd2_points': 8,\n",
       "  'rd3_points': 8,\n",
       "  'rd4_points': 17},\n",
       " 'Cameron Harris 2': {'rd1_points': 12,\n",
       "  'rd2_points': 8,\n",
       "  'rd3_points': 8,\n",
       "  'rd4_points': 0}}"
      ]
     },
     "execution_count": 389,
     "metadata": {},
     "output_type": "execute_result"
    }
   ],
   "source": [
    "points"
   ]
  },
  {
   "cell_type": "code",
   "execution_count": 390,
   "id": "charged-folks",
   "metadata": {},
   "outputs": [
    {
     "data": {
      "text/html": [
       "<div>\n",
       "<style scoped>\n",
       "    .dataframe tbody tr th:only-of-type {\n",
       "        vertical-align: middle;\n",
       "    }\n",
       "\n",
       "    .dataframe tbody tr th {\n",
       "        vertical-align: top;\n",
       "    }\n",
       "\n",
       "    .dataframe thead th {\n",
       "        text-align: right;\n",
       "    }\n",
       "</style>\n",
       "<table border=\"1\" class=\"dataframe\">\n",
       "  <thead>\n",
       "    <tr style=\"text-align: right;\">\n",
       "      <th></th>\n",
       "      <th>rd1_points</th>\n",
       "      <th>rd2_points</th>\n",
       "      <th>rd3_points</th>\n",
       "      <th>rd4_points</th>\n",
       "      <th>total</th>\n",
       "    </tr>\n",
       "  </thead>\n",
       "  <tbody>\n",
       "    <tr>\n",
       "      <th>Cameron Harris</th>\n",
       "      <td>10</td>\n",
       "      <td>8</td>\n",
       "      <td>8</td>\n",
       "      <td>17</td>\n",
       "      <td>43</td>\n",
       "    </tr>\n",
       "    <tr>\n",
       "      <th>Cameron Harris 2</th>\n",
       "      <td>12</td>\n",
       "      <td>8</td>\n",
       "      <td>8</td>\n",
       "      <td>0</td>\n",
       "      <td>28</td>\n",
       "    </tr>\n",
       "  </tbody>\n",
       "</table>\n",
       "</div>"
      ],
      "text/plain": [
       "                  rd1_points  rd2_points  rd3_points  rd4_points  total\n",
       "Cameron Harris            10           8           8          17     43\n",
       "Cameron Harris 2          12           8           8           0     28"
      ]
     },
     "execution_count": 390,
     "metadata": {},
     "output_type": "execute_result"
    }
   ],
   "source": [
    "points_df = pd.DataFrame(points).T\n",
    "points_df['total'] = points_df.iloc[:, :].sum(axis=1)\n",
    "points_df"
   ]
  },
  {
   "cell_type": "code",
   "execution_count": null,
   "id": "significant-bible",
   "metadata": {},
   "outputs": [],
   "source": []
  }
 ],
 "metadata": {
  "kernelspec": {
   "display_name": "Python [conda env:gad_env]",
   "language": "python",
   "name": "conda-env-gad_env-py"
  },
  "language_info": {
   "codemirror_mode": {
    "name": "ipython",
    "version": 3
   },
   "file_extension": ".py",
   "mimetype": "text/x-python",
   "name": "python",
   "nbconvert_exporter": "python",
   "pygments_lexer": "ipython3",
   "version": "3.8.12"
  }
 },
 "nbformat": 4,
 "nbformat_minor": 5
}
